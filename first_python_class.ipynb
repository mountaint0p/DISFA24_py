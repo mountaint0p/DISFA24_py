{
 "cells": [
  {
   "cell_type": "code",
   "execution_count": 1,
   "metadata": {},
   "outputs": [
    {
     "name": "stdout",
     "output_type": "stream",
     "text": [
      "Hello World!\n",
      "It is good to meet you, Summit\n",
      "The length of your name is 6\n",
      "In one year, you will be 22 years old\n"
     ]
    }
   ],
   "source": [
    "print(\"Hello World!\")\n",
    "name = input(\"What is your name?\")\n",
    "print(\"It is good to meet you, \" + name)\n",
    "print(\"The length of your name is\", len(name))\n",
    "age = input(\"How old are you?\")\n",
    "print(\"In one year, you will be \" + str(int(age) + 1) + \" years old\")"
   ]
  }
 ],
 "metadata": {
  "kernelspec": {
   "display_name": ".venv",
   "language": "python",
   "name": "python3"
  },
  "language_info": {
   "codemirror_mode": {
    "name": "ipython",
    "version": 3
   },
   "file_extension": ".py",
   "mimetype": "text/x-python",
   "name": "python",
   "nbconvert_exporter": "python",
   "pygments_lexer": "ipython3",
   "version": "3.12.2"
  }
 },
 "nbformat": 4,
 "nbformat_minor": 2
}
